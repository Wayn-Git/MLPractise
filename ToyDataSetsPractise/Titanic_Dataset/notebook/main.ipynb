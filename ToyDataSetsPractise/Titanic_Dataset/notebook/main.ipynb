{
 "cells": [
  {
   "cell_type": "code",
   "execution_count": 334,
   "id": "fcc0c996",
   "metadata": {},
   "outputs": [],
   "source": [
    "import pandas as pd \n",
    "import numpy as np \n",
    "import matplotlib.pyplot as plt\n",
    "import seaborn as sns\n",
    "from sklearn.model_selection import train_test_split\n",
    "from sklearn.preprocessing import StandardScaler, OneHotEncoder"
   ]
  },
  {
   "cell_type": "code",
   "execution_count": 335,
   "id": "49c50c9d",
   "metadata": {},
   "outputs": [
    {
     "name": "stdout",
     "output_type": "stream",
     "text": [
      "/home/wayne/Documents/GitHub/MLPractise/ToyDataSetsPractise/Titanic_Dataset/data/Titanic-Dataset.csv\n",
      "/home/wayne/Documents/GitHub/MLPractise/ToyDataSetsPractise/Titanic_Dataset/notebook/main.ipynb\n"
     ]
    }
   ],
   "source": [
    "import os\n",
    "root_directory = \"/home/wayne/Documents/GitHub/MLPractise/ToyDataSetsPractise/Titanic_Dataset\"\n",
    "\n",
    "for subdir, dirs, files in os.walk(root_directory):\n",
    "    for files in files:\n",
    "        print(os.path.join(subdir, files))\n"
   ]
  },
  {
   "cell_type": "code",
   "execution_count": 336,
   "id": "c82d29a6",
   "metadata": {},
   "outputs": [],
   "source": [
    "df = pd.read_csv(\"/home/wayne/Documents/GitHub/MLPractise/ToyDataSetsPractise/Titanic_Dataset/data/Titanic-Dataset.csv\")"
   ]
  },
  {
   "cell_type": "code",
   "execution_count": 337,
   "id": "923ed41b",
   "metadata": {},
   "outputs": [
    {
     "data": {
      "application/vnd.microsoft.datawrangler.viewer.v0+json": {
       "columns": [
        {
         "name": "index",
         "rawType": "int64",
         "type": "integer"
        },
        {
         "name": "PassengerId",
         "rawType": "int64",
         "type": "integer"
        },
        {
         "name": "Survived",
         "rawType": "int64",
         "type": "integer"
        },
        {
         "name": "Pclass",
         "rawType": "int64",
         "type": "integer"
        },
        {
         "name": "Name",
         "rawType": "object",
         "type": "string"
        },
        {
         "name": "Sex",
         "rawType": "object",
         "type": "string"
        },
        {
         "name": "Age",
         "rawType": "float64",
         "type": "float"
        },
        {
         "name": "SibSp",
         "rawType": "int64",
         "type": "integer"
        },
        {
         "name": "Parch",
         "rawType": "int64",
         "type": "integer"
        },
        {
         "name": "Ticket",
         "rawType": "object",
         "type": "string"
        },
        {
         "name": "Fare",
         "rawType": "float64",
         "type": "float"
        },
        {
         "name": "Cabin",
         "rawType": "object",
         "type": "unknown"
        },
        {
         "name": "Embarked",
         "rawType": "object",
         "type": "string"
        }
       ],
       "ref": "c943c80e-8470-4119-91a6-f1462267eb66",
       "rows": [
        [
         "0",
         "1",
         "0",
         "3",
         "Braund, Mr. Owen Harris",
         "male",
         "22.0",
         "1",
         "0",
         "A/5 21171",
         "7.25",
         null,
         "S"
        ],
        [
         "1",
         "2",
         "1",
         "1",
         "Cumings, Mrs. John Bradley (Florence Briggs Thayer)",
         "female",
         "38.0",
         "1",
         "0",
         "PC 17599",
         "71.2833",
         "C85",
         "C"
        ],
        [
         "2",
         "3",
         "1",
         "3",
         "Heikkinen, Miss. Laina",
         "female",
         "26.0",
         "0",
         "0",
         "STON/O2. 3101282",
         "7.925",
         null,
         "S"
        ],
        [
         "3",
         "4",
         "1",
         "1",
         "Futrelle, Mrs. Jacques Heath (Lily May Peel)",
         "female",
         "35.0",
         "1",
         "0",
         "113803",
         "53.1",
         "C123",
         "S"
        ],
        [
         "4",
         "5",
         "0",
         "3",
         "Allen, Mr. William Henry",
         "male",
         "35.0",
         "0",
         "0",
         "373450",
         "8.05",
         null,
         "S"
        ]
       ],
       "shape": {
        "columns": 12,
        "rows": 5
       }
      },
      "text/html": [
       "<div>\n",
       "<style scoped>\n",
       "    .dataframe tbody tr th:only-of-type {\n",
       "        vertical-align: middle;\n",
       "    }\n",
       "\n",
       "    .dataframe tbody tr th {\n",
       "        vertical-align: top;\n",
       "    }\n",
       "\n",
       "    .dataframe thead th {\n",
       "        text-align: right;\n",
       "    }\n",
       "</style>\n",
       "<table border=\"1\" class=\"dataframe\">\n",
       "  <thead>\n",
       "    <tr style=\"text-align: right;\">\n",
       "      <th></th>\n",
       "      <th>PassengerId</th>\n",
       "      <th>Survived</th>\n",
       "      <th>Pclass</th>\n",
       "      <th>Name</th>\n",
       "      <th>Sex</th>\n",
       "      <th>Age</th>\n",
       "      <th>SibSp</th>\n",
       "      <th>Parch</th>\n",
       "      <th>Ticket</th>\n",
       "      <th>Fare</th>\n",
       "      <th>Cabin</th>\n",
       "      <th>Embarked</th>\n",
       "    </tr>\n",
       "  </thead>\n",
       "  <tbody>\n",
       "    <tr>\n",
       "      <th>0</th>\n",
       "      <td>1</td>\n",
       "      <td>0</td>\n",
       "      <td>3</td>\n",
       "      <td>Braund, Mr. Owen Harris</td>\n",
       "      <td>male</td>\n",
       "      <td>22.0</td>\n",
       "      <td>1</td>\n",
       "      <td>0</td>\n",
       "      <td>A/5 21171</td>\n",
       "      <td>7.2500</td>\n",
       "      <td>NaN</td>\n",
       "      <td>S</td>\n",
       "    </tr>\n",
       "    <tr>\n",
       "      <th>1</th>\n",
       "      <td>2</td>\n",
       "      <td>1</td>\n",
       "      <td>1</td>\n",
       "      <td>Cumings, Mrs. John Bradley (Florence Briggs Th...</td>\n",
       "      <td>female</td>\n",
       "      <td>38.0</td>\n",
       "      <td>1</td>\n",
       "      <td>0</td>\n",
       "      <td>PC 17599</td>\n",
       "      <td>71.2833</td>\n",
       "      <td>C85</td>\n",
       "      <td>C</td>\n",
       "    </tr>\n",
       "    <tr>\n",
       "      <th>2</th>\n",
       "      <td>3</td>\n",
       "      <td>1</td>\n",
       "      <td>3</td>\n",
       "      <td>Heikkinen, Miss. Laina</td>\n",
       "      <td>female</td>\n",
       "      <td>26.0</td>\n",
       "      <td>0</td>\n",
       "      <td>0</td>\n",
       "      <td>STON/O2. 3101282</td>\n",
       "      <td>7.9250</td>\n",
       "      <td>NaN</td>\n",
       "      <td>S</td>\n",
       "    </tr>\n",
       "    <tr>\n",
       "      <th>3</th>\n",
       "      <td>4</td>\n",
       "      <td>1</td>\n",
       "      <td>1</td>\n",
       "      <td>Futrelle, Mrs. Jacques Heath (Lily May Peel)</td>\n",
       "      <td>female</td>\n",
       "      <td>35.0</td>\n",
       "      <td>1</td>\n",
       "      <td>0</td>\n",
       "      <td>113803</td>\n",
       "      <td>53.1000</td>\n",
       "      <td>C123</td>\n",
       "      <td>S</td>\n",
       "    </tr>\n",
       "    <tr>\n",
       "      <th>4</th>\n",
       "      <td>5</td>\n",
       "      <td>0</td>\n",
       "      <td>3</td>\n",
       "      <td>Allen, Mr. William Henry</td>\n",
       "      <td>male</td>\n",
       "      <td>35.0</td>\n",
       "      <td>0</td>\n",
       "      <td>0</td>\n",
       "      <td>373450</td>\n",
       "      <td>8.0500</td>\n",
       "      <td>NaN</td>\n",
       "      <td>S</td>\n",
       "    </tr>\n",
       "  </tbody>\n",
       "</table>\n",
       "</div>"
      ],
      "text/plain": [
       "   PassengerId  Survived  Pclass  \\\n",
       "0            1         0       3   \n",
       "1            2         1       1   \n",
       "2            3         1       3   \n",
       "3            4         1       1   \n",
       "4            5         0       3   \n",
       "\n",
       "                                                Name     Sex   Age  SibSp  \\\n",
       "0                            Braund, Mr. Owen Harris    male  22.0      1   \n",
       "1  Cumings, Mrs. John Bradley (Florence Briggs Th...  female  38.0      1   \n",
       "2                             Heikkinen, Miss. Laina  female  26.0      0   \n",
       "3       Futrelle, Mrs. Jacques Heath (Lily May Peel)  female  35.0      1   \n",
       "4                           Allen, Mr. William Henry    male  35.0      0   \n",
       "\n",
       "   Parch            Ticket     Fare Cabin Embarked  \n",
       "0      0         A/5 21171   7.2500   NaN        S  \n",
       "1      0          PC 17599  71.2833   C85        C  \n",
       "2      0  STON/O2. 3101282   7.9250   NaN        S  \n",
       "3      0            113803  53.1000  C123        S  \n",
       "4      0            373450   8.0500   NaN        S  "
      ]
     },
     "execution_count": 337,
     "metadata": {},
     "output_type": "execute_result"
    }
   ],
   "source": [
    "df.head()"
   ]
  },
  {
   "cell_type": "code",
   "execution_count": 338,
   "id": "8848ac81",
   "metadata": {},
   "outputs": [
    {
     "data": {
      "text/plain": [
       "\"The attributes have the following meaning:\\n\\n    Survived - that's the target, 0 means the passenger did not survive, while 1 means he/she survived.\\n    Pclass - passenger class.\\n    Name, Sex, Age - self-explanatory\\n    SibSp - how many siblings & spouses of the passenger aboard the Titanic.\\n    Parch - how many children & parents of the passenger aboard the Titanic.\\n    Ticket - ticket id\\n    Fare - the price paid (in pounds)\\n    Cabin - passenger's cabin number\\n    Embarked - where the passenger embarked the Titanic\\n\\n\""
      ]
     },
     "execution_count": 338,
     "metadata": {},
     "output_type": "execute_result"
    }
   ],
   "source": [
    "\"\"\"The attributes have the following meaning:\n",
    "\n",
    "    Survived - that's the target, 0 means the passenger did not survive, while 1 means he/she survived.\n",
    "    Pclass - passenger class.\n",
    "    Name, Sex, Age - self-explanatory\n",
    "    SibSp - how many siblings & spouses of the passenger aboard the Titanic.\n",
    "    Parch - how many children & parents of the passenger aboard the Titanic.\n",
    "    Ticket - ticket id\n",
    "    Fare - the price paid (in pounds)\n",
    "    Cabin - passenger's cabin number\n",
    "    Embarked - where the passenger embarked the Titanic\n",
    "    \n",
    "\"\"\""
   ]
  },
  {
   "cell_type": "code",
   "execution_count": 339,
   "id": "6c937c3c",
   "metadata": {},
   "outputs": [],
   "source": [
    "df.columns = df.columns.str.lower()\n",
    "df.drop(columns=[\"passengerid\", \"ticket\", \"cabin\"], axis=1, inplace=True)"
   ]
  },
  {
   "cell_type": "code",
   "execution_count": 340,
   "id": "74029e84",
   "metadata": {},
   "outputs": [],
   "source": [
    "# The following features doesn't contribute in any value as a feature and is more like identifiers"
   ]
  },
  {
   "cell_type": "code",
   "execution_count": 341,
   "id": "13df3b4d",
   "metadata": {},
   "outputs": [
    {
     "data": {
      "application/vnd.microsoft.datawrangler.viewer.v0+json": {
       "columns": [
        {
         "name": "index",
         "rawType": "int64",
         "type": "integer"
        },
        {
         "name": "survived",
         "rawType": "int64",
         "type": "integer"
        },
        {
         "name": "pclass",
         "rawType": "int64",
         "type": "integer"
        },
        {
         "name": "name",
         "rawType": "object",
         "type": "string"
        },
        {
         "name": "sex",
         "rawType": "object",
         "type": "string"
        },
        {
         "name": "age",
         "rawType": "float64",
         "type": "float"
        },
        {
         "name": "sibsp",
         "rawType": "int64",
         "type": "integer"
        },
        {
         "name": "parch",
         "rawType": "int64",
         "type": "integer"
        },
        {
         "name": "fare",
         "rawType": "float64",
         "type": "float"
        },
        {
         "name": "embarked",
         "rawType": "object",
         "type": "string"
        }
       ],
       "ref": "b1fb6237-acf4-41f6-bffc-6a61e08ab4df",
       "rows": [
        [
         "0",
         "0",
         "3",
         "Braund, Mr. Owen Harris",
         "male",
         "22.0",
         "1",
         "0",
         "7.25",
         "S"
        ],
        [
         "1",
         "1",
         "1",
         "Cumings, Mrs. John Bradley (Florence Briggs Thayer)",
         "female",
         "38.0",
         "1",
         "0",
         "71.2833",
         "C"
        ],
        [
         "2",
         "1",
         "3",
         "Heikkinen, Miss. Laina",
         "female",
         "26.0",
         "0",
         "0",
         "7.925",
         "S"
        ],
        [
         "3",
         "1",
         "1",
         "Futrelle, Mrs. Jacques Heath (Lily May Peel)",
         "female",
         "35.0",
         "1",
         "0",
         "53.1",
         "S"
        ],
        [
         "4",
         "0",
         "3",
         "Allen, Mr. William Henry",
         "male",
         "35.0",
         "0",
         "0",
         "8.05",
         "S"
        ]
       ],
       "shape": {
        "columns": 9,
        "rows": 5
       }
      },
      "text/html": [
       "<div>\n",
       "<style scoped>\n",
       "    .dataframe tbody tr th:only-of-type {\n",
       "        vertical-align: middle;\n",
       "    }\n",
       "\n",
       "    .dataframe tbody tr th {\n",
       "        vertical-align: top;\n",
       "    }\n",
       "\n",
       "    .dataframe thead th {\n",
       "        text-align: right;\n",
       "    }\n",
       "</style>\n",
       "<table border=\"1\" class=\"dataframe\">\n",
       "  <thead>\n",
       "    <tr style=\"text-align: right;\">\n",
       "      <th></th>\n",
       "      <th>survived</th>\n",
       "      <th>pclass</th>\n",
       "      <th>name</th>\n",
       "      <th>sex</th>\n",
       "      <th>age</th>\n",
       "      <th>sibsp</th>\n",
       "      <th>parch</th>\n",
       "      <th>fare</th>\n",
       "      <th>embarked</th>\n",
       "    </tr>\n",
       "  </thead>\n",
       "  <tbody>\n",
       "    <tr>\n",
       "      <th>0</th>\n",
       "      <td>0</td>\n",
       "      <td>3</td>\n",
       "      <td>Braund, Mr. Owen Harris</td>\n",
       "      <td>male</td>\n",
       "      <td>22.0</td>\n",
       "      <td>1</td>\n",
       "      <td>0</td>\n",
       "      <td>7.2500</td>\n",
       "      <td>S</td>\n",
       "    </tr>\n",
       "    <tr>\n",
       "      <th>1</th>\n",
       "      <td>1</td>\n",
       "      <td>1</td>\n",
       "      <td>Cumings, Mrs. John Bradley (Florence Briggs Th...</td>\n",
       "      <td>female</td>\n",
       "      <td>38.0</td>\n",
       "      <td>1</td>\n",
       "      <td>0</td>\n",
       "      <td>71.2833</td>\n",
       "      <td>C</td>\n",
       "    </tr>\n",
       "    <tr>\n",
       "      <th>2</th>\n",
       "      <td>1</td>\n",
       "      <td>3</td>\n",
       "      <td>Heikkinen, Miss. Laina</td>\n",
       "      <td>female</td>\n",
       "      <td>26.0</td>\n",
       "      <td>0</td>\n",
       "      <td>0</td>\n",
       "      <td>7.9250</td>\n",
       "      <td>S</td>\n",
       "    </tr>\n",
       "    <tr>\n",
       "      <th>3</th>\n",
       "      <td>1</td>\n",
       "      <td>1</td>\n",
       "      <td>Futrelle, Mrs. Jacques Heath (Lily May Peel)</td>\n",
       "      <td>female</td>\n",
       "      <td>35.0</td>\n",
       "      <td>1</td>\n",
       "      <td>0</td>\n",
       "      <td>53.1000</td>\n",
       "      <td>S</td>\n",
       "    </tr>\n",
       "    <tr>\n",
       "      <th>4</th>\n",
       "      <td>0</td>\n",
       "      <td>3</td>\n",
       "      <td>Allen, Mr. William Henry</td>\n",
       "      <td>male</td>\n",
       "      <td>35.0</td>\n",
       "      <td>0</td>\n",
       "      <td>0</td>\n",
       "      <td>8.0500</td>\n",
       "      <td>S</td>\n",
       "    </tr>\n",
       "  </tbody>\n",
       "</table>\n",
       "</div>"
      ],
      "text/plain": [
       "   survived  pclass                                               name  \\\n",
       "0         0       3                            Braund, Mr. Owen Harris   \n",
       "1         1       1  Cumings, Mrs. John Bradley (Florence Briggs Th...   \n",
       "2         1       3                             Heikkinen, Miss. Laina   \n",
       "3         1       1       Futrelle, Mrs. Jacques Heath (Lily May Peel)   \n",
       "4         0       3                           Allen, Mr. William Henry   \n",
       "\n",
       "      sex   age  sibsp  parch     fare embarked  \n",
       "0    male  22.0      1      0   7.2500        S  \n",
       "1  female  38.0      1      0  71.2833        C  \n",
       "2  female  26.0      0      0   7.9250        S  \n",
       "3  female  35.0      1      0  53.1000        S  \n",
       "4    male  35.0      0      0   8.0500        S  "
      ]
     },
     "execution_count": 341,
     "metadata": {},
     "output_type": "execute_result"
    }
   ],
   "source": [
    "df.head()"
   ]
  },
  {
   "cell_type": "code",
   "execution_count": 342,
   "id": "a5f2c2d6",
   "metadata": {},
   "outputs": [
    {
     "data": {
      "text/plain": [
       "Index(['survived', 'pclass', 'name', 'sex', 'age', 'sibsp', 'parch', 'fare',\n",
       "       'embarked'],\n",
       "      dtype='object')"
      ]
     },
     "execution_count": 342,
     "metadata": {},
     "output_type": "execute_result"
    }
   ],
   "source": [
    "df.columns"
   ]
  },
  {
   "cell_type": "code",
   "execution_count": 343,
   "id": "e458d880",
   "metadata": {},
   "outputs": [
    {
     "name": "stdout",
     "output_type": "stream",
     "text": [
      "<class 'pandas.core.frame.DataFrame'>\n",
      "RangeIndex: 891 entries, 0 to 890\n",
      "Data columns (total 9 columns):\n",
      " #   Column    Non-Null Count  Dtype  \n",
      "---  ------    --------------  -----  \n",
      " 0   survived  891 non-null    int64  \n",
      " 1   pclass    891 non-null    int64  \n",
      " 2   name      891 non-null    object \n",
      " 3   sex       891 non-null    object \n",
      " 4   age       714 non-null    float64\n",
      " 5   sibsp     891 non-null    int64  \n",
      " 6   parch     891 non-null    int64  \n",
      " 7   fare      891 non-null    float64\n",
      " 8   embarked  889 non-null    object \n",
      "dtypes: float64(2), int64(4), object(3)\n",
      "memory usage: 62.8+ KB\n"
     ]
    }
   ],
   "source": [
    "df.info()"
   ]
  },
  {
   "cell_type": "code",
   "execution_count": 344,
   "id": "43abf3b2",
   "metadata": {},
   "outputs": [
    {
     "data": {
      "application/vnd.microsoft.datawrangler.viewer.v0+json": {
       "columns": [
        {
         "name": "index",
         "rawType": "object",
         "type": "string"
        },
        {
         "name": "survived",
         "rawType": "float64",
         "type": "float"
        },
        {
         "name": "pclass",
         "rawType": "float64",
         "type": "float"
        },
        {
         "name": "age",
         "rawType": "float64",
         "type": "float"
        },
        {
         "name": "sibsp",
         "rawType": "float64",
         "type": "float"
        },
        {
         "name": "parch",
         "rawType": "float64",
         "type": "float"
        },
        {
         "name": "fare",
         "rawType": "float64",
         "type": "float"
        }
       ],
       "ref": "f1c08ddc-af54-43f2-81d4-629aa26a58ee",
       "rows": [
        [
         "count",
         "891.0",
         "891.0",
         "714.0",
         "891.0",
         "891.0",
         "891.0"
        ],
        [
         "mean",
         "0.3838383838383838",
         "2.308641975308642",
         "29.69911764705882",
         "0.5230078563411896",
         "0.38159371492704824",
         "32.204207968574636"
        ],
        [
         "std",
         "0.4865924542648575",
         "0.836071240977049",
         "14.526497332334042",
         "1.1027434322934317",
         "0.8060572211299483",
         "49.6934285971809"
        ],
        [
         "min",
         "0.0",
         "1.0",
         "0.42",
         "0.0",
         "0.0",
         "0.0"
        ],
        [
         "25%",
         "0.0",
         "2.0",
         "20.125",
         "0.0",
         "0.0",
         "7.9104"
        ],
        [
         "50%",
         "0.0",
         "3.0",
         "28.0",
         "0.0",
         "0.0",
         "14.4542"
        ],
        [
         "75%",
         "1.0",
         "3.0",
         "38.0",
         "1.0",
         "0.0",
         "31.0"
        ],
        [
         "max",
         "1.0",
         "3.0",
         "80.0",
         "8.0",
         "6.0",
         "512.3292"
        ]
       ],
       "shape": {
        "columns": 6,
        "rows": 8
       }
      },
      "text/html": [
       "<div>\n",
       "<style scoped>\n",
       "    .dataframe tbody tr th:only-of-type {\n",
       "        vertical-align: middle;\n",
       "    }\n",
       "\n",
       "    .dataframe tbody tr th {\n",
       "        vertical-align: top;\n",
       "    }\n",
       "\n",
       "    .dataframe thead th {\n",
       "        text-align: right;\n",
       "    }\n",
       "</style>\n",
       "<table border=\"1\" class=\"dataframe\">\n",
       "  <thead>\n",
       "    <tr style=\"text-align: right;\">\n",
       "      <th></th>\n",
       "      <th>survived</th>\n",
       "      <th>pclass</th>\n",
       "      <th>age</th>\n",
       "      <th>sibsp</th>\n",
       "      <th>parch</th>\n",
       "      <th>fare</th>\n",
       "    </tr>\n",
       "  </thead>\n",
       "  <tbody>\n",
       "    <tr>\n",
       "      <th>count</th>\n",
       "      <td>891.000000</td>\n",
       "      <td>891.000000</td>\n",
       "      <td>714.000000</td>\n",
       "      <td>891.000000</td>\n",
       "      <td>891.000000</td>\n",
       "      <td>891.000000</td>\n",
       "    </tr>\n",
       "    <tr>\n",
       "      <th>mean</th>\n",
       "      <td>0.383838</td>\n",
       "      <td>2.308642</td>\n",
       "      <td>29.699118</td>\n",
       "      <td>0.523008</td>\n",
       "      <td>0.381594</td>\n",
       "      <td>32.204208</td>\n",
       "    </tr>\n",
       "    <tr>\n",
       "      <th>std</th>\n",
       "      <td>0.486592</td>\n",
       "      <td>0.836071</td>\n",
       "      <td>14.526497</td>\n",
       "      <td>1.102743</td>\n",
       "      <td>0.806057</td>\n",
       "      <td>49.693429</td>\n",
       "    </tr>\n",
       "    <tr>\n",
       "      <th>min</th>\n",
       "      <td>0.000000</td>\n",
       "      <td>1.000000</td>\n",
       "      <td>0.420000</td>\n",
       "      <td>0.000000</td>\n",
       "      <td>0.000000</td>\n",
       "      <td>0.000000</td>\n",
       "    </tr>\n",
       "    <tr>\n",
       "      <th>25%</th>\n",
       "      <td>0.000000</td>\n",
       "      <td>2.000000</td>\n",
       "      <td>20.125000</td>\n",
       "      <td>0.000000</td>\n",
       "      <td>0.000000</td>\n",
       "      <td>7.910400</td>\n",
       "    </tr>\n",
       "    <tr>\n",
       "      <th>50%</th>\n",
       "      <td>0.000000</td>\n",
       "      <td>3.000000</td>\n",
       "      <td>28.000000</td>\n",
       "      <td>0.000000</td>\n",
       "      <td>0.000000</td>\n",
       "      <td>14.454200</td>\n",
       "    </tr>\n",
       "    <tr>\n",
       "      <th>75%</th>\n",
       "      <td>1.000000</td>\n",
       "      <td>3.000000</td>\n",
       "      <td>38.000000</td>\n",
       "      <td>1.000000</td>\n",
       "      <td>0.000000</td>\n",
       "      <td>31.000000</td>\n",
       "    </tr>\n",
       "    <tr>\n",
       "      <th>max</th>\n",
       "      <td>1.000000</td>\n",
       "      <td>3.000000</td>\n",
       "      <td>80.000000</td>\n",
       "      <td>8.000000</td>\n",
       "      <td>6.000000</td>\n",
       "      <td>512.329200</td>\n",
       "    </tr>\n",
       "  </tbody>\n",
       "</table>\n",
       "</div>"
      ],
      "text/plain": [
       "         survived      pclass         age       sibsp       parch        fare\n",
       "count  891.000000  891.000000  714.000000  891.000000  891.000000  891.000000\n",
       "mean     0.383838    2.308642   29.699118    0.523008    0.381594   32.204208\n",
       "std      0.486592    0.836071   14.526497    1.102743    0.806057   49.693429\n",
       "min      0.000000    1.000000    0.420000    0.000000    0.000000    0.000000\n",
       "25%      0.000000    2.000000   20.125000    0.000000    0.000000    7.910400\n",
       "50%      0.000000    3.000000   28.000000    0.000000    0.000000   14.454200\n",
       "75%      1.000000    3.000000   38.000000    1.000000    0.000000   31.000000\n",
       "max      1.000000    3.000000   80.000000    8.000000    6.000000  512.329200"
      ]
     },
     "execution_count": 344,
     "metadata": {},
     "output_type": "execute_result"
    }
   ],
   "source": [
    "df.describe()"
   ]
  },
  {
   "cell_type": "code",
   "execution_count": 345,
   "id": "84795104",
   "metadata": {},
   "outputs": [
    {
     "name": "stdout",
     "output_type": "stream",
     "text": [
      "Count of NA Values in the Dataset: 179\n",
      "\n",
      "Na Values by columns: survived      0\n",
      "pclass        0\n",
      "name          0\n",
      "sex           0\n",
      "age         177\n",
      "sibsp         0\n",
      "parch         0\n",
      "fare          0\n",
      "embarked      2\n",
      "dtype: int64\n",
      "\n",
      "Shape of the dataset: (891, 9)\n",
      "\n",
      "Column Data Types: survived      int64\n",
      "pclass        int64\n",
      "name         object\n",
      "sex          object\n",
      "age         float64\n",
      "sibsp         int64\n",
      "parch         int64\n",
      "fare        float64\n",
      "embarked     object\n",
      "dtype: object\n"
     ]
    }
   ],
   "source": [
    "print(f\"Count of NA Values in the Dataset: {df.isna().sum().sum()}\")\n",
    "print()\n",
    "print(f\"Na Values by columns: {df.isna().sum()}\")\n",
    "print()\n",
    "print(f\"Shape of the dataset: {df.shape}\")\n",
    "print()\n",
    "print(f\"Column Data Types: {df.dtypes}\")"
   ]
  },
  {
   "cell_type": "code",
   "execution_count": null,
   "id": "e6e34a7a",
   "metadata": {},
   "outputs": [],
   "source": []
  },
  {
   "cell_type": "code",
   "execution_count": 346,
   "id": "14864ac5",
   "metadata": {},
   "outputs": [
    {
     "data": {
      "image/png": "[encoded data removed]",
      "text/plain": [
       "<Figure size 640x480 with 1 Axes>"
      ]
     },
     "metadata": {},
     "output_type": "display_data"
    },
    {
     "data": {
      "image/png": "[encoded data removed]",
      "text/plain": [
       "<Figure size 640x480 with 1 Axes>"
      ]
     },
     "metadata": {},
     "output_type": "display_data"
    },
    {
     "data": {
      "image/png": "[encoded data removed]",
      "text/plain": [
       "<Figure size 640x480 with 1 Axes>"
      ]
     },
     "metadata": {},
     "output_type": "display_data"
    },
    {
     "data": {
      "image/png": "[encoded data removed]",
      "text/plain": [
       "<Figure size 640x480 with 1 Axes>"
      ]
     },
     "metadata": {},
     "output_type": "display_data"
    }
   ],
   "source": [
    "plt.Figure(figsize=(15, 4))\n",
    "for col in ['survived', 'sex', 'pclass', 'embarked']:\n",
    "    plt.title(f\"Distribution by {col}\")\n",
    "    sns.countplot(data=df, x=col)\n",
    "    plt.ylabel(\"Count\")\n",
    "    plt.xlabel(col)\n",
    "    plt.show()"
   ]
  },
  {
   "cell_type": "code",
   "execution_count": 347,
   "id": "168f7b9f",
   "metadata": {},
   "outputs": [],
   "source": [
    "df['embarked'] = df['embarked'].fillna('S')\n",
    "df['age']=df['age'].fillna(df['age'].median(), )"
   ]
  },
  {
   "cell_type": "code",
   "execution_count": null,
   "id": "4f1087d1",
   "metadata": {},
   "outputs": [],
   "source": []
  },
  {
   "cell_type": "code",
   "execution_count": 348,
   "id": "ae363541",
   "metadata": {},
   "outputs": [],
   "source": [
    "# age survive, fare survive, "
   ]
  },
  {
   "cell_type": "code",
   "execution_count": 349,
   "id": "6d84a6b6",
   "metadata": {},
   "outputs": [
    {
     "data": {
      "image/png": "[encoded data removed]",
      "text/plain": [
       "<Figure size 640x480 with 1 Axes>"
      ]
     },
     "metadata": {},
     "output_type": "display_data"
    }
   ],
   "source": [
    "plt.Figure(figsize=(15, 4))\n",
    "for col in ['age', 'fare']:\n",
    "    sns.scatterplot(data=df, y='survived', x=col)\n"
   ]
  },
  {
   "cell_type": "code",
   "execution_count": 350,
   "id": "da0151e5",
   "metadata": {},
   "outputs": [],
   "source": [
    "# Feature Engeenring\n",
    "\n",
    "# Creating a family column by adding sibsp and parch\n",
    "\n",
    "df['family_size'] = df['sibsp'] + df['parch'] + 1 # added one beacuse we are counting the passenger as well"
   ]
  },
  {
   "cell_type": "code",
   "execution_count": 351,
   "id": "abcf68cf",
   "metadata": {},
   "outputs": [],
   "source": [
    "# Extracting the titles that a person is called by (Could be important)\n",
    "\n",
    "df['title'] = df['name'].str.split(\", \", expand=True)[1].str.split(\".\", expand=True)[0]"
   ]
  },
  {
   "cell_type": "code",
   "execution_count": 352,
   "id": "b1a79c33",
   "metadata": {},
   "outputs": [
    {
     "data": {
      "application/vnd.microsoft.datawrangler.viewer.v0+json": {
       "columns": [
        {
         "name": "title",
         "rawType": "object",
         "type": "string"
        },
        {
         "name": "count",
         "rawType": "int64",
         "type": "integer"
        }
       ],
       "ref": "698fcc86-de75-4397-ad02-c3fdd2b72ac8",
       "rows": [
        [
         "Mr",
         "517"
        ],
        [
         "Miss",
         "182"
        ],
        [
         "Mrs",
         "125"
        ],
        [
         "Master",
         "40"
        ],
        [
         "Dr",
         "7"
        ],
        [
         "Rev",
         "6"
        ],
        [
         "Col",
         "2"
        ],
        [
         "Mlle",
         "2"
        ],
        [
         "Major",
         "2"
        ],
        [
         "Ms",
         "1"
        ],
        [
         "Mme",
         "1"
        ],
        [
         "Don",
         "1"
        ],
        [
         "Lady",
         "1"
        ],
        [
         "Sir",
         "1"
        ],
        [
         "Capt",
         "1"
        ],
        [
         "the Countess",
         "1"
        ],
        [
         "Jonkheer",
         "1"
        ]
       ],
       "shape": {
        "columns": 1,
        "rows": 17
       }
      },
      "text/plain": [
       "title\n",
       "Mr              517\n",
       "Miss            182\n",
       "Mrs             125\n",
       "Master           40\n",
       "Dr                7\n",
       "Rev               6\n",
       "Col               2\n",
       "Mlle              2\n",
       "Major             2\n",
       "Ms                1\n",
       "Mme               1\n",
       "Don               1\n",
       "Lady              1\n",
       "Sir               1\n",
       "Capt              1\n",
       "the Countess      1\n",
       "Jonkheer          1\n",
       "Name: count, dtype: int64"
      ]
     },
     "execution_count": 352,
     "metadata": {},
     "output_type": "execute_result"
    }
   ],
   "source": [
    "df['title'].value_counts()"
   ]
  },
  {
   "cell_type": "code",
   "execution_count": 353,
   "id": "fc329be5",
   "metadata": {},
   "outputs": [],
   "source": [
    "\n",
    "\n",
    "df['title'] = df['title'].replace(\n",
    "    ['Lady', 'the Countess','Capt', 'Col','Don', 'Dr', 'Major', 'Rev', 'Sir', 'Jonkheer', 'Dona'],\n",
    "      'Rare')\n",
    "df['title'] = df['title'].replace('Mlle', 'Miss')\n",
    "df['title'] = df['title'].replace('Ms', 'Miss')\n",
    "df['title'] = df['title'].replace('Mme', 'Mrs')\n",
    "df['title'] = df['title'].replace('Lady', 'Miss')"
   ]
  },
  {
   "cell_type": "code",
   "execution_count": 354,
   "id": "15f6da57",
   "metadata": {},
   "outputs": [
    {
     "data": {
      "application/vnd.microsoft.datawrangler.viewer.v0+json": {
       "columns": [
        {
         "name": "title",
         "rawType": "object",
         "type": "string"
        },
        {
         "name": "count",
         "rawType": "int64",
         "type": "integer"
        }
       ],
       "ref": "bebaeb29-56fa-4f97-9bc3-8c0844e5e5ad",
       "rows": [
        [
         "Mr",
         "517"
        ],
        [
         "Miss",
         "185"
        ],
        [
         "Mrs",
         "126"
        ],
        [
         "Master",
         "40"
        ],
        [
         "Rare",
         "23"
        ]
       ],
       "shape": {
        "columns": 1,
        "rows": 5
       }
      },
      "text/plain": [
       "title\n",
       "Mr        517\n",
       "Miss      185\n",
       "Mrs       126\n",
       "Master     40\n",
       "Rare       23\n",
       "Name: count, dtype: int64"
      ]
     },
     "execution_count": 354,
     "metadata": {},
     "output_type": "execute_result"
    }
   ],
   "source": [
    "df['title'].value_counts()"
   ]
  },
  {
   "cell_type": "code",
   "execution_count": 355,
   "id": "0fd1e2f8",
   "metadata": {},
   "outputs": [],
   "source": [
    "df_copy = df.copy()"
   ]
  },
  {
   "cell_type": "code",
   "execution_count": 356,
   "id": "cfb10ee4",
   "metadata": {},
   "outputs": [],
   "source": [
    "df.drop(columns=['sibsp', 'parch', 'name'], axis=1, inplace=True)"
   ]
  },
  {
   "cell_type": "code",
   "execution_count": 358,
   "id": "75c322af",
   "metadata": {},
   "outputs": [],
   "source": [
    "def family_size(num):\n",
    "    if num == 1:\n",
    "        return \"alone\"\n",
    "    elif num > 1 and num < 5:\n",
    "        return \"small\"\n",
    "    else: \n",
    "        return \"large\""
   ]
  },
  {
   "cell_type": "code",
   "execution_count": 359,
   "id": "a5b2c2a0",
   "metadata": {},
   "outputs": [],
   "source": [
    "df['family_size'] = df['family_size'].apply(family_size)"
   ]
  },
  {
   "cell_type": "code",
   "execution_count": 360,
   "id": "a95c3b25",
   "metadata": {},
   "outputs": [
    {
     "data": {
      "text/plain": [
       "Text(0.5, 1.0, 'Correlation Heatmap')"
      ]
     },
     "execution_count": 360,
     "metadata": {},
     "output_type": "execute_result"
    },
    {
     "data": {
      "image/png": "[encoded data removed]",
      "text/plain": [
       "<Figure size 1400x1200 with 2 Axes>"
      ]
     },
     "metadata": {},
     "output_type": "display_data"
    }
   ],
   "source": [
    "df_corr = df.corr(numeric_only=True)\n",
    "\n",
    "plt.subplots(figsize =(14, 12))\n",
    "sns.heatmap(df_corr, fmt=\".2f\", annot=True, annot_kws={'fontsize':12 })\n",
    "plt.title(\"Correlation Heatmap\")\n",
    "\n",
    "\n"
   ]
  },
  {
   "cell_type": "code",
   "execution_count": 361,
   "id": "9fdb1f9f",
   "metadata": {},
   "outputs": [
    {
     "ename": "ModuleNotFoundError",
     "evalue": "No module named 'xgboost'",
     "output_type": "error",
     "traceback": [
      "\u001b[31m---------------------------------------------------------------------------\u001b[39m",
      "\u001b[31mModuleNotFoundError\u001b[39m                       Traceback (most recent call last)",
      "\u001b[36mCell\u001b[39m\u001b[36m \u001b[39m\u001b[32mIn[361]\u001b[39m\u001b[32m, line 14\u001b[39m\n\u001b[32m     12\u001b[39m \u001b[38;5;28;01mfrom\u001b[39;00m\u001b[38;5;250m \u001b[39m\u001b[34;01msklearn\u001b[39;00m\u001b[38;5;250m \u001b[39m\u001b[38;5;28;01mimport\u001b[39;00m tree\n\u001b[32m     13\u001b[39m \u001b[38;5;28;01mfrom\u001b[39;00m\u001b[38;5;250m \u001b[39m\u001b[34;01msklearn\u001b[39;00m\u001b[38;5;250m \u001b[39m\u001b[38;5;28;01mimport\u001b[39;00m discriminant_analysis\n\u001b[32m---> \u001b[39m\u001b[32m14\u001b[39m \u001b[38;5;28;01mfrom\u001b[39;00m\u001b[38;5;250m \u001b[39m\u001b[34;01mxgboost\u001b[39;00m\u001b[38;5;250m \u001b[39m\u001b[38;5;28;01mimport\u001b[39;00m XGBClassifier\n\u001b[32m     15\u001b[39m \u001b[38;5;28;01mfrom\u001b[39;00m\u001b[38;5;250m \u001b[39m\u001b[34;01msklearn\u001b[39;00m\u001b[34;01m.\u001b[39;00m\u001b[34;01mmodel_selection\u001b[39;00m\u001b[38;5;250m \u001b[39m\u001b[38;5;28;01mimport\u001b[39;00m cross_val_score\n",
      "\u001b[31mModuleNotFoundError\u001b[39m: No module named 'xgboost'"
     ]
    }
   ],
   "source": [
    "from sklearn.model_selection import train_test_split, GridSearchCV\n",
    "from sklearn.compose import ColumnTransformer # Helps to apply functions like standard scalar, one hot encoding to a specific number of columns \n",
    "from sklearn.preprocessing import OneHotEncoder, OrdinalEncoder, MinMaxScaler, StandardScaler\n",
    "from sklearn.pipeline import Pipeline, make_pipeline\n",
    "from sklearn.metrics import accuracy_score\n",
    "from sklearn import ensemble\n",
    "from sklearn import gaussian_process\n",
    "from sklearn import linear_model\n",
    "from sklearn import naive_bayes\n",
    "from sklearn import neighbors\n",
    "from sklearn import svm\n",
    "from sklearn import tree\n",
    "from sklearn import discriminant_analysis\n",
    "from xgboost import XGBClassifier\n",
    "from sklearn.model_selection import cross_val_score\n"
   ]
  },
  {
   "cell_type": "code",
   "execution_count": 362,
   "id": "2352413c",
   "metadata": {},
   "outputs": [],
   "source": [
    "X = df.drop('survived', axis=1)\n",
    "y = df['survived']\n",
    "\n",
    "X_train, X_test, y_train, y_test = train_test_split(X, y, test_size=0.2, stratify=y, random_state=42)"
   ]
  },
  {
   "cell_type": "code",
   "execution_count": 363,
   "id": "6ccd8761",
   "metadata": {},
   "outputs": [
    {
     "data": {
      "application/vnd.microsoft.datawrangler.viewer.v0+json": {
       "columns": [
        {
         "name": "index",
         "rawType": "int64",
         "type": "integer"
        },
        {
         "name": "survived",
         "rawType": "int64",
         "type": "integer"
        },
        {
         "name": "pclass",
         "rawType": "int64",
         "type": "integer"
        },
        {
         "name": "sex",
         "rawType": "object",
         "type": "string"
        },
        {
         "name": "age",
         "rawType": "float64",
         "type": "float"
        },
        {
         "name": "fare",
         "rawType": "float64",
         "type": "float"
        },
        {
         "name": "embarked",
         "rawType": "object",
         "type": "string"
        },
        {
         "name": "family_size",
         "rawType": "object",
         "type": "string"
        },
        {
         "name": "title",
         "rawType": "object",
         "type": "string"
        }
       ],
       "ref": "98fa343e-1550-4a4d-8c3c-3e7c4d3189a7",
       "rows": [
        [
         "0",
         "0",
         "3",
         "male",
         "22.0",
         "7.25",
         "S",
         "small",
         "Mr"
        ],
        [
         "1",
         "1",
         "1",
         "female",
         "38.0",
         "71.2833",
         "C",
         "small",
         "Mrs"
        ],
        [
         "2",
         "1",
         "3",
         "female",
         "26.0",
         "7.925",
         "S",
         "alone",
         "Miss"
        ],
        [
         "3",
         "1",
         "1",
         "female",
         "35.0",
         "53.1",
         "S",
         "small",
         "Mrs"
        ],
        [
         "4",
         "0",
         "3",
         "male",
         "35.0",
         "8.05",
         "S",
         "alone",
         "Mr"
        ],
        [
         "5",
         "0",
         "3",
         "male",
         "28.0",
         "8.4583",
         "Q",
         "alone",
         "Mr"
        ],
        [
         "6",
         "0",
         "1",
         "male",
         "54.0",
         "51.8625",
         "S",
         "alone",
         "Mr"
        ],
        [
         "7",
         "0",
         "3",
         "male",
         "2.0",
         "21.075",
         "S",
         "large",
         "Master"
        ],
        [
         "8",
         "1",
         "3",
         "female",
         "27.0",
         "11.1333",
         "S",
         "small",
         "Mrs"
        ],
        [
         "9",
         "1",
         "2",
         "female",
         "14.0",
         "30.0708",
         "C",
         "small",
         "Mrs"
        ],
        [
         "10",
         "1",
         "3",
         "female",
         "4.0",
         "16.7",
         "S",
         "small",
         "Miss"
        ],
        [
         "11",
         "1",
         "1",
         "female",
         "58.0",
         "26.55",
         "S",
         "alone",
         "Miss"
        ],
        [
         "12",
         "0",
         "3",
         "male",
         "20.0",
         "8.05",
         "S",
         "alone",
         "Mr"
        ],
        [
         "13",
         "0",
         "3",
         "male",
         "39.0",
         "31.275",
         "S",
         "large",
         "Mr"
        ],
        [
         "14",
         "0",
         "3",
         "female",
         "14.0",
         "7.8542",
         "S",
         "alone",
         "Miss"
        ],
        [
         "15",
         "1",
         "2",
         "female",
         "55.0",
         "16.0",
         "S",
         "alone",
         "Mrs"
        ],
        [
         "16",
         "0",
         "3",
         "male",
         "2.0",
         "29.125",
         "Q",
         "large",
         "Master"
        ],
        [
         "17",
         "1",
         "2",
         "male",
         "28.0",
         "13.0",
         "S",
         "alone",
         "Mr"
        ],
        [
         "18",
         "0",
         "3",
         "female",
         "31.0",
         "18.0",
         "S",
         "small",
         "Mrs"
        ],
        [
         "19",
         "1",
         "3",
         "female",
         "28.0",
         "7.225",
         "C",
         "alone",
         "Mrs"
        ],
        [
         "20",
         "0",
         "2",
         "male",
         "35.0",
         "26.0",
         "S",
         "alone",
         "Mr"
        ],
        [
         "21",
         "1",
         "2",
         "male",
         "34.0",
         "13.0",
         "S",
         "alone",
         "Mr"
        ],
        [
         "22",
         "1",
         "3",
         "female",
         "15.0",
         "8.0292",
         "Q",
         "alone",
         "Miss"
        ],
        [
         "23",
         "1",
         "1",
         "male",
         "28.0",
         "35.5",
         "S",
         "alone",
         "Mr"
        ],
        [
         "24",
         "0",
         "3",
         "female",
         "8.0",
         "21.075",
         "S",
         "large",
         "Miss"
        ],
        [
         "25",
         "1",
         "3",
         "female",
         "38.0",
         "31.3875",
         "S",
         "large",
         "Mrs"
        ],
        [
         "26",
         "0",
         "3",
         "male",
         "28.0",
         "7.225",
         "C",
         "alone",
         "Mr"
        ],
        [
         "27",
         "0",
         "1",
         "male",
         "19.0",
         "263.0",
         "S",
         "large",
         "Mr"
        ],
        [
         "28",
         "1",
         "3",
         "female",
         "28.0",
         "7.8792",
         "Q",
         "alone",
         "Miss"
        ],
        [
         "29",
         "0",
         "3",
         "male",
         "28.0",
         "7.8958",
         "S",
         "alone",
         "Mr"
        ],
        [
         "30",
         "0",
         "1",
         "male",
         "40.0",
         "27.7208",
         "C",
         "alone",
         "Rare"
        ],
        [
         "31",
         "1",
         "1",
         "female",
         "28.0",
         "146.5208",
         "C",
         "small",
         "Mrs"
        ],
        [
         "32",
         "1",
         "3",
         "female",
         "28.0",
         "7.75",
         "Q",
         "alone",
         "Miss"
        ],
        [
         "33",
         "0",
         "2",
         "male",
         "66.0",
         "10.5",
         "S",
         "alone",
         "Mr"
        ],
        [
         "34",
         "0",
         "1",
         "male",
         "28.0",
         "82.1708",
         "C",
         "small",
         "Mr"
        ],
        [
         "35",
         "0",
         "1",
         "male",
         "42.0",
         "52.0",
         "S",
         "small",
         "Mr"
        ],
        [
         "36",
         "1",
         "3",
         "male",
         "28.0",
         "7.2292",
         "C",
         "alone",
         "Mr"
        ],
        [
         "37",
         "0",
         "3",
         "male",
         "21.0",
         "8.05",
         "S",
         "alone",
         "Mr"
        ],
        [
         "38",
         "0",
         "3",
         "female",
         "18.0",
         "18.0",
         "S",
         "small",
         "Miss"
        ],
        [
         "39",
         "1",
         "3",
         "female",
         "14.0",
         "11.2417",
         "C",
         "small",
         "Miss"
        ],
        [
         "40",
         "0",
         "3",
         "female",
         "40.0",
         "9.475",
         "S",
         "small",
         "Mrs"
        ],
        [
         "41",
         "0",
         "2",
         "female",
         "27.0",
         "21.0",
         "S",
         "small",
         "Mrs"
        ],
        [
         "42",
         "0",
         "3",
         "male",
         "28.0",
         "7.8958",
         "C",
         "alone",
         "Mr"
        ],
        [
         "43",
         "1",
         "2",
         "female",
         "3.0",
         "41.5792",
         "C",
         "small",
         "Miss"
        ],
        [
         "44",
         "1",
         "3",
         "female",
         "19.0",
         "7.8792",
         "Q",
         "alone",
         "Miss"
        ],
        [
         "45",
         "0",
         "3",
         "male",
         "28.0",
         "8.05",
         "S",
         "alone",
         "Mr"
        ],
        [
         "46",
         "0",
         "3",
         "male",
         "28.0",
         "15.5",
         "Q",
         "small",
         "Mr"
        ],
        [
         "47",
         "1",
         "3",
         "female",
         "28.0",
         "7.75",
         "Q",
         "alone",
         "Miss"
        ],
        [
         "48",
         "0",
         "3",
         "male",
         "28.0",
         "21.6792",
         "C",
         "small",
         "Mr"
        ],
        [
         "49",
         "0",
         "3",
         "female",
         "18.0",
         "17.8",
         "S",
         "small",
         "Mrs"
        ]
       ],
       "shape": {
        "columns": 8,
        "rows": 891
       }
      },
      "text/html": [
       "<div>\n",
       "<style scoped>\n",
       "    .dataframe tbody tr th:only-of-type {\n",
       "        vertical-align: middle;\n",
       "    }\n",
       "\n",
       "    .dataframe tbody tr th {\n",
       "        vertical-align: top;\n",
       "    }\n",
       "\n",
       "    .dataframe thead th {\n",
       "        text-align: right;\n",
       "    }\n",
       "</style>\n",
       "<table border=\"1\" class=\"dataframe\">\n",
       "  <thead>\n",
       "    <tr style=\"text-align: right;\">\n",
       "      <th></th>\n",
       "      <th>survived</th>\n",
       "      <th>pclass</th>\n",
       "      <th>sex</th>\n",
       "      <th>age</th>\n",
       "      <th>fare</th>\n",
       "      <th>embarked</th>\n",
       "      <th>family_size</th>\n",
       "      <th>title</th>\n",
       "    </tr>\n",
       "  </thead>\n",
       "  <tbody>\n",
       "    <tr>\n",
       "      <th>0</th>\n",
       "      <td>0</td>\n",
       "      <td>3</td>\n",
       "      <td>male</td>\n",
       "      <td>22.0</td>\n",
       "      <td>7.2500</td>\n",
       "      <td>S</td>\n",
       "      <td>small</td>\n",
       "      <td>Mr</td>\n",
       "    </tr>\n",
       "    <tr>\n",
       "      <th>1</th>\n",
       "      <td>1</td>\n",
       "      <td>1</td>\n",
       "      <td>female</td>\n",
       "      <td>38.0</td>\n",
       "      <td>71.2833</td>\n",
       "      <td>C</td>\n",
       "      <td>small</td>\n",
       "      <td>Mrs</td>\n",
       "    </tr>\n",
       "    <tr>\n",
       "      <th>2</th>\n",
       "      <td>1</td>\n",
       "      <td>3</td>\n",
       "      <td>female</td>\n",
       "      <td>26.0</td>\n",
       "      <td>7.9250</td>\n",
       "      <td>S</td>\n",
       "      <td>alone</td>\n",
       "      <td>Miss</td>\n",
       "    </tr>\n",
       "    <tr>\n",
       "      <th>3</th>\n",
       "      <td>1</td>\n",
       "      <td>1</td>\n",
       "      <td>female</td>\n",
       "      <td>35.0</td>\n",
       "      <td>53.1000</td>\n",
       "      <td>S</td>\n",
       "      <td>small</td>\n",
       "      <td>Mrs</td>\n",
       "    </tr>\n",
       "    <tr>\n",
       "      <th>4</th>\n",
       "      <td>0</td>\n",
       "      <td>3</td>\n",
       "      <td>male</td>\n",
       "      <td>35.0</td>\n",
       "      <td>8.0500</td>\n",
       "      <td>S</td>\n",
       "      <td>alone</td>\n",
       "      <td>Mr</td>\n",
       "    </tr>\n",
       "    <tr>\n",
       "      <th>...</th>\n",
       "      <td>...</td>\n",
       "      <td>...</td>\n",
       "      <td>...</td>\n",
       "      <td>...</td>\n",
       "      <td>...</td>\n",
       "      <td>...</td>\n",
       "      <td>...</td>\n",
       "      <td>...</td>\n",
       "    </tr>\n",
       "    <tr>\n",
       "      <th>886</th>\n",
       "      <td>0</td>\n",
       "      <td>2</td>\n",
       "      <td>male</td>\n",
       "      <td>27.0</td>\n",
       "      <td>13.0000</td>\n",
       "      <td>S</td>\n",
       "      <td>alone</td>\n",
       "      <td>Rare</td>\n",
       "    </tr>\n",
       "    <tr>\n",
       "      <th>887</th>\n",
       "      <td>1</td>\n",
       "      <td>1</td>\n",
       "      <td>female</td>\n",
       "      <td>19.0</td>\n",
       "      <td>30.0000</td>\n",
       "      <td>S</td>\n",
       "      <td>alone</td>\n",
       "      <td>Miss</td>\n",
       "    </tr>\n",
       "    <tr>\n",
       "      <th>888</th>\n",
       "      <td>0</td>\n",
       "      <td>3</td>\n",
       "      <td>female</td>\n",
       "      <td>28.0</td>\n",
       "      <td>23.4500</td>\n",
       "      <td>S</td>\n",
       "      <td>small</td>\n",
       "      <td>Miss</td>\n",
       "    </tr>\n",
       "    <tr>\n",
       "      <th>889</th>\n",
       "      <td>1</td>\n",
       "      <td>1</td>\n",
       "      <td>male</td>\n",
       "      <td>26.0</td>\n",
       "      <td>30.0000</td>\n",
       "      <td>C</td>\n",
       "      <td>alone</td>\n",
       "      <td>Mr</td>\n",
       "    </tr>\n",
       "    <tr>\n",
       "      <th>890</th>\n",
       "      <td>0</td>\n",
       "      <td>3</td>\n",
       "      <td>male</td>\n",
       "      <td>32.0</td>\n",
       "      <td>7.7500</td>\n",
       "      <td>Q</td>\n",
       "      <td>alone</td>\n",
       "      <td>Mr</td>\n",
       "    </tr>\n",
       "  </tbody>\n",
       "</table>\n",
       "<p>891 rows × 8 columns</p>\n",
       "</div>"
      ],
      "text/plain": [
       "     survived  pclass     sex   age     fare embarked family_size title\n",
       "0           0       3    male  22.0   7.2500        S       small    Mr\n",
       "1           1       1  female  38.0  71.2833        C       small   Mrs\n",
       "2           1       3  female  26.0   7.9250        S       alone  Miss\n",
       "3           1       1  female  35.0  53.1000        S       small   Mrs\n",
       "4           0       3    male  35.0   8.0500        S       alone    Mr\n",
       "..        ...     ...     ...   ...      ...      ...         ...   ...\n",
       "886         0       2    male  27.0  13.0000        S       alone  Rare\n",
       "887         1       1  female  19.0  30.0000        S       alone  Miss\n",
       "888         0       3  female  28.0  23.4500        S       small  Miss\n",
       "889         1       1    male  26.0  30.0000        C       alone    Mr\n",
       "890         0       3    male  32.0   7.7500        Q       alone    Mr\n",
       "\n",
       "[891 rows x 8 columns]"
      ]
     },
     "execution_count": 363,
     "metadata": {},
     "output_type": "execute_result"
    }
   ],
   "source": [
    "df"
   ]
  },
  {
   "cell_type": "code",
   "execution_count": 366,
   "id": "1be937a2",
   "metadata": {},
   "outputs": [],
   "source": [
    "# Exclude target column\n",
    "feature_numeric_cols = ['pclass', 'age', 'fare']\n",
    "feature_categorical_cols = ['sex', 'embarked', 'family_size', 'title']\n",
    "\n",
    "target_col = 'survived'\n"
   ]
  },
  {
   "cell_type": "code",
   "execution_count": 367,
   "id": "4799c53c",
   "metadata": {},
   "outputs": [],
   "source": [
    "from sklearn.preprocessing import MinMaxScaler, OneHotEncoder\n",
    "from sklearn.compose import ColumnTransformer\n",
    "\n",
    "preprocessor = ColumnTransformer([\n",
    "    ('num', MinMaxScaler(), feature_numeric_cols),\n",
    "    ('cat', OneHotEncoder(), feature_categorical_cols)\n",
    "])\n"
   ]
  },
  {
   "cell_type": "code",
   "execution_count": 368,
   "id": "fb0186f2",
   "metadata": {},
   "outputs": [],
   "source": [
    "from sklearn.pipeline import Pipeline\n",
    "\n",
    "def create_pipeline(model):\n",
    "    return Pipeline([\n",
    "        ('preprocessor', preprocessor),\n",
    "        ('classifier', model)\n",
    "    ])\n"
   ]
  },
  {
   "cell_type": "code",
   "execution_count": 369,
   "id": "9119064c",
   "metadata": {},
   "outputs": [],
   "source": [
    "from sklearn import ensemble, linear_model, neighbors, svm, tree, discriminant_analysis, naive_bayes\n",
    "\n",
    "models = {\n",
    "    # Ensemble Methods\n",
    "    'RandomForest': ensemble.RandomForestClassifier(n_estimators=100, random_state=42),\n",
    "    'GradientBoosting': ensemble.GradientBoostingClassifier(n_estimators=100, random_state=42),\n",
    "    'AdaBoost': ensemble.AdaBoostClassifier(n_estimators=100, random_state=42),\n",
    "\n",
    "    # Linear Models\n",
    "    'LogisticRegression': linear_model.LogisticRegression(max_iter=1000, random_state=42),\n",
    "    'RidgeClassifier': linear_model.RidgeClassifier(random_state=42),\n",
    "\n",
    "    # SVM\n",
    "    'SVC': svm.SVC(probability=True, kernel='rbf', random_state=42),\n",
    "\n",
    "    # Nearest Neighbor\n",
    "    'KNN': neighbors.KNeighborsClassifier(),\n",
    "\n",
    "    # Trees\n",
    "    'DecisionTree': tree.DecisionTreeClassifier(random_state=42),\n",
    "\n",
    "    # Discriminant Analysis\n",
    "    'LDA': discriminant_analysis.LinearDiscriminantAnalysis(),\n",
    "    \n",
    "    # Naive Bayes\n",
    "    'GaussianNB': naive_bayes.GaussianNB(),\n",
    "}\n"
   ]
  },
  {
   "cell_type": "code",
   "execution_count": 370,
   "id": "3adaebce",
   "metadata": {},
   "outputs": [
    {
     "name": "stdout",
     "output_type": "stream",
     "text": [
      "                    CV_Accuracy\n",
      "LDA                    0.825874\n",
      "RidgeClassifier        0.824466\n",
      "SVC                    0.824456\n",
      "GradientBoosting       0.821728\n",
      "AdaBoost               0.820309\n",
      "LogisticRegression     0.820290\n",
      "GaussianNB             0.811839\n",
      "KNN                    0.807673\n",
      "RandomForest           0.804954\n",
      "DecisionTree           0.761381\n"
     ]
    }
   ],
   "source": [
    "import pandas as pd\n",
    "import matplotlib.pyplot as plt\n",
    "from sklearn.model_selection import cross_val_score\n",
    "\n",
    "results = {}\n",
    "\n",
    "for name, model in models.items():\n",
    "    pipe = create_pipeline(model)\n",
    "    # 5-fold CV with accuracy\n",
    "    scores = cross_val_score(pipe, X_train, y_train, cv=5, scoring='accuracy')\n",
    "    results[name] = scores.mean()\n",
    "\n",
    "# Convert to DataFrame and sort\n",
    "results_df = pd.DataFrame.from_dict(results, orient='index', columns=['CV_Accuracy'])\n",
    "results_df = results_df.sort_values(by='CV_Accuracy', ascending=False)\n",
    "print(results_df)\n"
   ]
  },
  {
   "cell_type": "code",
   "execution_count": 371,
   "id": "63ffe31c",
   "metadata": {},
   "outputs": [
    {
     "name": "stderr",
     "output_type": "stream",
     "text": [
      "/tmp/ipykernel_722/2450485032.py:2: FutureWarning: \n",
      "\n",
      "Passing `palette` without assigning `hue` is deprecated and will be removed in v0.14.0. Assign the `x` variable to `hue` and set `legend=False` for the same effect.\n",
      "\n",
      "  sns.barplot(x=results_df.index, y='CV_Accuracy', data=results_df, palette=\"viridis\")\n"
     ]
    },
    {
     "data": {
      "image/png": "[encoded data removed]",
      "text/plain": [
       "<Figure size 1200x600 with 1 Axes>"
      ]
     },
     "metadata": {},
     "output_type": "display_data"
    }
   ],
   "source": [
    "plt.figure(figsize=(12,6))\n",
    "sns.barplot(x=results_df.index, y='CV_Accuracy', data=results_df, palette=\"viridis\")\n",
    "plt.xticks(rotation=45)\n",
    "plt.ylabel(\"5-Fold CV Accuracy\")\n",
    "plt.title(\"Model Comparison on Titanic Dataset\")\n",
    "plt.show()\n"
   ]
  },
  {
   "cell_type": "code",
   "execution_count": 372,
   "id": "4d058262",
   "metadata": {},
   "outputs": [],
   "source": [
    "top_models = {\n",
    "    'LDA': discriminant_analysis.LinearDiscriminantAnalysis(),\n",
    "\n",
    "    'RidgeClassifier': linear_model.RidgeClassifier(random_state=42),\n",
    "\n",
    "    'SVC': svm.SVC(probability=True, kernel='rbf', random_state=42),\n",
    "\n",
    "}"
   ]
  },
  {
   "cell_type": "code",
   "execution_count": 376,
   "id": "0fba7233",
   "metadata": {},
   "outputs": [],
   "source": [
    "param_grids = {\n",
    "    'LDA': {\n",
    "        # No hyperparameters really needed for basic LDA\n",
    "    },\n",
    "    'RidgeClassifier': {\n",
    "        'classifier__alpha': [0.1, 1.0, 10.0]\n",
    "    },\n",
    "    'SVC': {\n",
    "        'classifier__C': [0.1, 1, 10],\n",
    "        'classifier__gamma': ['scale', 'auto'],\n",
    "        'classifier__kernel': ['rbf', 'poly']\n",
    "    }\n",
    "}\n"
   ]
  },
  {
   "cell_type": "code",
   "execution_count": 377,
   "id": "336bf79b",
   "metadata": {},
   "outputs": [
    {
     "name": "stdout",
     "output_type": "stream",
     "text": [
      "Processing LDA...\n",
      "Processing RidgeClassifier...\n"
     ]
    },
    {
     "name": "stderr",
     "output_type": "stream",
     "text": [
      "/usr/lib/python3.12/multiprocessing/queues.py:122: UserWarning: pkg_resources is deprecated as an API. See https://setuptools.pypa.io/en/latest/pkg_resources.html. The pkg_resources package is slated for removal as early as 2025-11-30. Refrain from using this package or pin to Setuptools<81.\n",
      "  return _ForkingPickler.loads(res)\n",
      "/usr/lib/python3.12/multiprocessing/queues.py:122: UserWarning: pkg_resources is deprecated as an API. See https://setuptools.pypa.io/en/latest/pkg_resources.html. The pkg_resources package is slated for removal as early as 2025-11-30. Refrain from using this package or pin to Setuptools<81.\n",
      "  return _ForkingPickler.loads(res)\n",
      "/usr/lib/python3.12/multiprocessing/queues.py:122: UserWarning: pkg_resources is deprecated as an API. See https://setuptools.pypa.io/en/latest/pkg_resources.html. The pkg_resources package is slated for removal as early as 2025-11-30. Refrain from using this package or pin to Setuptools<81.\n",
      "  return _ForkingPickler.loads(res)\n",
      "/usr/lib/python3.12/multiprocessing/queues.py:122: UserWarning: pkg_resources is deprecated as an API. See https://setuptools.pypa.io/en/latest/pkg_resources.html. The pkg_resources package is slated for removal as early as 2025-11-30. Refrain from using this package or pin to Setuptools<81.\n",
      "  return _ForkingPickler.loads(res)\n",
      "/usr/lib/python3.12/multiprocessing/queues.py:122: UserWarning: pkg_resources is deprecated as an API. See https://setuptools.pypa.io/en/latest/pkg_resources.html. The pkg_resources package is slated for removal as early as 2025-11-30. Refrain from using this package or pin to Setuptools<81.\n",
      "  return _ForkingPickler.loads(res)\n",
      "/usr/lib/python3.12/multiprocessing/queues.py:122: UserWarning: pkg_resources is deprecated as an API. See https://setuptools.pypa.io/en/latest/pkg_resources.html. The pkg_resources package is slated for removal as early as 2025-11-30. Refrain from using this package or pin to Setuptools<81.\n",
      "  return _ForkingPickler.loads(res)\n",
      "/usr/lib/python3.12/multiprocessing/queues.py:122: UserWarning: pkg_resources is deprecated as an API. See https://setuptools.pypa.io/en/latest/pkg_resources.html. The pkg_resources package is slated for removal as early as 2025-11-30. Refrain from using this package or pin to Setuptools<81.\n",
      "  return _ForkingPickler.loads(res)\n",
      "/usr/lib/python3.12/multiprocessing/queues.py:122: UserWarning: pkg_resources is deprecated as an API. See https://setuptools.pypa.io/en/latest/pkg_resources.html. The pkg_resources package is slated for removal as early as 2025-11-30. Refrain from using this package or pin to Setuptools<81.\n",
      "  return _ForkingPickler.loads(res)\n"
     ]
    },
    {
     "name": "stdout",
     "output_type": "stream",
     "text": [
      "Best params for RidgeClassifier: {'classifier__alpha': 0.1}\n",
      "Best CV accuracy: 0.8259\n",
      "\n",
      "Processing SVC...\n",
      "Best params for SVC: {'classifier__C': 1, 'classifier__gamma': 'auto', 'classifier__kernel': 'rbf'}\n",
      "Best CV accuracy: 0.8287\n",
      "\n"
     ]
    }
   ],
   "source": [
    "from sklearn.model_selection import GridSearchCV\n",
    "\n",
    "best_models = {}\n",
    "\n",
    "for name, model in top_models.items():\n",
    "    print(f\"Processing {name}...\")\n",
    "    pipe = create_pipeline(model)\n",
    "    \n",
    "    if param_grids.get(name):\n",
    "        grid = GridSearchCV(pipe, param_grids[name], cv=5, scoring='accuracy', n_jobs=-1)\n",
    "        grid.fit(X_train, y_train)\n",
    "        best_models[name] = grid.best_estimator_\n",
    "        print(f\"Best params for {name}: {grid.best_params_}\")\n",
    "        print(f\"Best CV accuracy: {grid.best_score_:.4f}\\n\")\n",
    "    else:\n",
    "        # No hyperparameters to tune\n",
    "        pipe.fit(X_train, y_train)\n",
    "        best_models[name] = pipe\n"
   ]
  },
  {
   "cell_type": "code",
   "execution_count": 378,
   "id": "7f615f11",
   "metadata": {},
   "outputs": [
    {
     "name": "stdout",
     "output_type": "stream",
     "text": [
      "LDA Test Metrics:\n",
      "Accuracy: 0.8436\n",
      "F1-score: 0.7879\n",
      "ROC-AUC: 0.8789\n",
      "-------------------------\n",
      "RidgeClassifier Test Metrics:\n",
      "Accuracy: 0.8436\n",
      "F1-score: 0.7879\n",
      "-------------------------\n",
      "SVC Test Metrics:\n",
      "Accuracy: 0.8268\n",
      "F1-score: 0.7597\n",
      "ROC-AUC: 0.8527\n",
      "-------------------------\n"
     ]
    }
   ],
   "source": [
    "from sklearn.metrics import accuracy_score, f1_score, roc_auc_score\n",
    "\n",
    "for name, model in best_models.items():\n",
    "    y_pred = model.predict(X_test)\n",
    "    y_prob = model.predict_proba(X_test)[:, 1] if hasattr(model, \"predict_proba\") else None\n",
    "    \n",
    "    acc = accuracy_score(y_test, y_pred)\n",
    "    f1 = f1_score(y_test, y_pred)\n",
    "    roc = roc_auc_score(y_test, y_prob) if y_prob is not None else None\n",
    "    \n",
    "    print(f\"{name} Test Metrics:\")\n",
    "    print(f\"Accuracy: {acc:.4f}\")\n",
    "    print(f\"F1-score: {f1:.4f}\")\n",
    "    if roc:\n",
    "        print(f\"ROC-AUC: {roc:.4f}\")\n",
    "    print(\"-------------------------\")\n"
   ]
  },
  {
   "cell_type": "code",
   "execution_count": 379,
   "id": "1923d486",
   "metadata": {},
   "outputs": [
    {
     "name": "stdout",
     "output_type": "stream",
     "text": [
      "Model saved successfully!\n"
     ]
    }
   ],
   "source": [
    "import joblib\n",
    "\n",
    "# Save the model (replace 'lda' with the model you choose)\n",
    "best_model = best_models['LDA']  # or 'RidgeClassifier'\n",
    "joblib.dump(best_model, 'titanic_best_model.pkl')\n",
    "print(\"Model saved successfully!\")\n"
   ]
  }
 ],
 "metadata": {
  "kernelspec": {
   "display_name": "Python 3",
   "language": "python",
   "name": "python3"
  },
  "language_info": {
   "codemirror_mode": {
    "name": "ipython",
    "version": 3
   },
   "file_extension": ".py",
   "mimetype": "text/x-python",
   "name": "python",
   "nbconvert_exporter": "python",
   "pygments_lexer": "ipython3",
   "version": "3.12.11"
  }
 },
 "nbformat": 4,
 "nbformat_minor": 5
}
