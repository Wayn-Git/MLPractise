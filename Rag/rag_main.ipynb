{
 "cells": [
  {
   "cell_type": "markdown",
   "id": "304415ab",
   "metadata": {},
   "source": [
    "# What is RAG -> \n",
    "\n",
    "Rag Stands for Retrieval-Augmented Generation, This is a technique that helps LLM to expand their knowledge and make them domain specific\n",
    "\n",
    "LLMs are trained on fixed data which cannot be changed and that makes the LLMs knowledge limited to that specifc type of data it has been trained on. \n",
    "\n",
    "RAG enhances these models by combing them with a retrieval system (A type of system that is designed to find, manage and presention information from large collection of data in respose to a user's query)\n",
    "\n",
    "Thi sis a cost effective apparoch to improve a LLM's output so it remains relavant and accurate\n",
    "\n",
    "## What it fixes ->\n",
    "\n",
    "- Presenting false information \n",
    "- Presnting outdated inforation\n",
    "- Avoids creating a response from non authoritative (Trust worthy and Reliable sources of information) sources\n",
    "\n",
    "# How does RAG actually work ? \n",
    "\n",
    "Without RAG, LLM takes the user input and creates a response based on information it was trained on or what it already knows. With RAG, an infromation retrival system is introduced where it utilizes the user input to first pull the information from the new data srouce and the user input and relavant data (By cosine similarity) is given to the LLM\n",
    "\n",
    "## Create External Data \n",
    "\n",
    "Any data outside of the LLM's original training data is called external data. There can be multiple data sources, like APIs, databases or document repositories. \n",
    "\n",
    "There's another technique called embedding language models. This method converts data into numerical representations and stores it in a vector data base. This process creates knowledge library that the generative AI models can understand\n",
    "\n",
    "## Retrieve relevant information \n",
    "\n",
    "The next step is to perform a relevancy search. The user query is converted to a vector representation and matched with the vector databases. The relevancy was calculated and establisted using mathematical vector calculations and representations\n",
    "\n",
    "## Augment the LLM prompt, the rag models augments the user input by adding the relevant retrieved data in context. \n",
    "\n",
    "![image.png](https://docs.aws.amazon.com/images/sagemaker/latest/dg/images/jumpstart/jumpstart-fm-rag.jpg)"
   ]
  },
  {
   "cell_type": "code",
   "execution_count": 1,
   "id": "9f7ad63f",
   "metadata": {},
   "outputs": [
    {
     "name": "stdout",
     "output_type": "stream",
     "text": [
      "Note: you may need to restart the kernel to use updated packages.\n"
     ]
    }
   ],
   "source": [
    "%pip install --quiet pinecone ipywidgets"
   ]
  },
  {
   "cell_type": "markdown",
   "id": "4a4c5dc7",
   "metadata": {},
   "source": [
    "# Importing API's"
   ]
  },
  {
   "cell_type": "code",
   "execution_count": 2,
   "id": "e145d429",
   "metadata": {},
   "outputs": [],
   "source": [
    "from dotenv import load_dotenv\n",
    "import os\n",
    "\n",
    "load_dotenv()\n",
    "\n",
    "PINECONE_API_KEY = os.getenv(\"PINECONE_API_KEY\")\n",
    "OPENROUTER_API_KEY  = os.getenv(\"OPEN_ROUTER_KEY\")"
   ]
  },
  {
   "cell_type": "code",
   "execution_count": 3,
   "id": "5a65bbf2",
   "metadata": {},
   "outputs": [
    {
     "data": {
      "text/plain": [
       "{'dimension': 1024,\n",
       " 'index_fullness': 0.0,\n",
       " 'metric': 'cosine',\n",
       " 'namespaces': {},\n",
       " 'total_vector_count': 0,\n",
       " 'vector_type': 'dense'}"
      ]
     },
     "execution_count": 3,
     "metadata": {},
     "output_type": "execute_result"
    }
   ],
   "source": [
    "from pinecone import Pinecone, ServerlessSpec\n",
    "index_name = \"rag\"\n",
    "\n",
    "pc = Pinecone(\n",
    "    api_key=PINECONE_API_KEY,\n",
    ")\n",
    "\n",
    "index = pc.Index(name=index_name)\n",
    "\n",
    "index.describe_index_stats()"
   ]
  },
  {
   "cell_type": "code",
   "execution_count": 15,
   "id": "5ad4be9c",
   "metadata": {},
   "outputs": [],
   "source": [
    "file_path = \"../Rag/data/2024Data.pdf\"\n",
    "output_folder = \"../Rag/data/pdf_images\""
   ]
  },
  {
   "cell_type": "code",
   "execution_count": 5,
   "id": "7efe7ee3",
   "metadata": {},
   "outputs": [
    {
     "name": "stdout",
     "output_type": "stream",
     "text": [
      "Defaulting to user installation because normal site-packages is not writeable\n",
      "Requirement already satisfied: poppler-utils in /var/data/python/lib/python3.12/site-packages (0.1.0)\n",
      "Requirement already satisfied: Click>=7.0 in /var/data/python/lib/python3.12/site-packages (from poppler-utils) (8.3.0)\n",
      "Note: you may need to restart the kernel to use updated packages.\n"
     ]
    }
   ],
   "source": [
    "%pip install poppler-utils"
   ]
  },
  {
   "cell_type": "code",
   "execution_count": 16,
   "id": "2ce9db7e",
   "metadata": {},
   "outputs": [],
   "source": [
    "import fitz\n",
    "import os\n",
    "\n",
    "doc = fitz.open(file_path)\n",
    "for i, page in enumerate(doc):\n",
    "    pix = page.get_pixmap(dpi=300)\n",
    "    pix.save(os.path.join(output_folder, f'page_{i}.png'))"
   ]
  },
  {
   "cell_type": "code",
   "execution_count": null,
   "id": "225279a9",
   "metadata": {},
   "outputs": [],
   "source": [
    "import os\n",
    "import easyocr \n",
    "\n",
    "reader = easyocr.Reader(['en','hi'])\n",
    "text_folder = \"../Rag/data/texts\"\n",
    "\n",
    "for file in sorted(os.listdir(output_folder)):\n",
    "    img_path = os.path.join(output_folder, file)\n",
    "    result = reader.readtext(img_path, detail=0)\n",
    "    text_path = os.path.join(text_folder, file.replace('.png', '.txt'))\n",
    "    with open(text_path, \"w\", encoding='utf-8') as f:\n",
    "        f.write(\"\\n\".join(result))"
   ]
  }
 ],
 "metadata": {
  "kernelspec": {
   "display_name": "Python 3",
   "language": "python",
   "name": "python3"
  },
  "language_info": {
   "codemirror_mode": {
    "name": "ipython",
    "version": 3
   },
   "file_extension": ".py",
   "mimetype": "text/x-python",
   "name": "python",
   "nbconvert_exporter": "python",
   "pygments_lexer": "ipython3",
   "version": "3.12.11"
  }
 },
 "nbformat": 4,
 "nbformat_minor": 5
}
